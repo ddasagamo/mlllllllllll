{
  "nbformat": 4,
  "nbformat_minor": 0,
  "metadata": {
    "colab": {
      "provenance": [],
      "authorship_tag": "ABX9TyPKL9RTBNhnO3MnapRxSI0l",
      "include_colab_link": true
    },
    "kernelspec": {
      "name": "python3",
      "display_name": "Python 3"
    },
    "language_info": {
      "name": "python"
    }
  },
  "cells": [
    {
      "cell_type": "markdown",
      "metadata": {
        "id": "view-in-github",
        "colab_type": "text"
      },
      "source": [
        "<a href=\"https://colab.research.google.com/github/ddasagamo/mlllllllllll/blob/main/Untitled0.ipynb\" target=\"_parent\"><img src=\"https://colab.research.google.com/assets/colab-badge.svg\" alt=\"Open In Colab\"/></a>"
      ]
    },
    {
      "cell_type": "code",
      "execution_count": null,
      "metadata": {
        "id": "LPWi9xDhaLAa"
      },
      "outputs": [],
      "source": [
        "class vehiculo:\n",
        "  def _init_(self, marca, modelo, year):\n",
        "    self.marca=marca\n",
        "    self.modelo=modelo\n",
        "    self.year=year\n",
        "\n",
        "  def arrancar(self):\n",
        "    return f\"El {self.marca}{self.modelo}: esta arrancando.\"\n",
        "  def detener(self):\n",
        "    return f\"El {self.marca}{self.modelo}: esta detenido.\"\n",
        "class moto(vehiculo):\n",
        "  def _init_(self, marca, modelo, year, cilindraje):\n",
        "    super()._init_(marca,modelo, year,)\n",
        "    delf.cilindraje=cilindraje\n",
        "  def caballo_de_fuerza(self):\n",
        "    return f\"El{self.marca}{self.modelo}: si tiene caballos de fuerza.\"\n",
        "def imprimirdatos(vehiculo):\n",
        "  print(vehiculo.arrancar())\n",
        "  print(vehiculo.detener())\n",
        "  #print(vehiculo.cabballo_de_fuerza())\n",
        "\n",
        "class camion(vehiculo):\n",
        "    def _init(self, marca, modelo, year, carga):\n",
        "          super()._init_(marca, modelo,year)\n",
        "          self.carga=carga\n",
        "\n",
        "    def peso(self):\n",
        "     return f\"El{self.marca}{self.modelo}:el paso del camion es {carga}\"\n",
        "\n",
        "\n",
        "    MOTO1 = moto(\"honda\", \"CB190\", 2022, 180)\n",
        "    carro = vehiculo(\"chevrolet\", \"aveo\" 2023, 180)\n",
        "    MOTO2 = moto(\"susuki\", \"150\", 2022, 150)\n",
        "    caminon1 = carga(\"mercedes\", \"cargalarga\" 1982, 80)\n",
        "\n",
        "    imprimitdatos(MOTO1)\n",
        "    imprimirdatos(carro)\n",
        "    imprimirdatos(camion1)\n",
        "\n"
      ]
    }
  ]
}